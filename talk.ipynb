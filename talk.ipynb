{
 "cells": [
  {
   "cell_type": "markdown",
   "metadata": {
    "slideshow": {
     "slide_type": "slide"
    }
   },
   "source": [
    "# The Journey Matters More than the Destination\n",
    "## Python Weirdness with Metaclasses and Descriptors\n",
    "\n",
    "**RSE Webinar - 30/01/2019**  \n",
    "**Dr. Chris Cave-Ayland - Senior Research Computing Engineer - University of Southampton**  \n",
    "**c.i.cave-ayland@soton.ac.uk**  \n",
    "**@ccaveayland**  \n",
    "\n",
    "# Introduction\n",
    "\n",
    "<img src=\"attachment:image.png\" alt=\"Drawing\" style=\"width: 600px;\"/>"
   ]
  },
  {
   "cell_type": "code",
   "execution_count": 1,
   "metadata": {},
   "outputs": [],
   "source": [
    "from simtk import openmm\n",
    "\n",
    "nbf = openmm.NonbondedForce()\n",
    "for i in range(nbf.getNumParticles()):\n",
    "    charge, sigma, epsilon = nbf.getParticleParameters(i)"
   ]
  },
  {
   "cell_type": "code",
   "execution_count": null,
   "metadata": {},
   "outputs": [],
   "source": [
    "for p in nbf.particles:\n",
    "    print(p.charge)"
   ]
  },
  {
   "cell_type": "markdown",
   "metadata": {},
   "source": [
    "# The Difference Between Python and C++\n",
    "\n",
    "It's worth exploring why this stylistic difference exists between these two languages. An example:"
   ]
  },
  {
   "cell_type": "code",
   "execution_count": 3,
   "metadata": {},
   "outputs": [
    {
     "name": "stdout",
     "output_type": "stream",
     "text": [
      "0\n",
      "5\n"
     ]
    }
   ],
   "source": [
    "class SimpleClass(object):\n",
    "    def __init__(self):\n",
    "        self.value = 0\n",
    "\n",
    "sc = SimpleClass()\n",
    "print(sc.value)\n",
    "sc.value = 5\n",
    "print(sc.value)"
   ]
  },
  {
   "cell_type": "markdown",
   "metadata": {},
   "source": [
    "Let's say I go away and use this class. I write a bunch of code that depends on it. Later I decide I want to embelish this class and add some range checking to the value. Suddenly a simple attribute isn't good enough anymore. Instead I need a function that is called to set the value that can also perform the range checking. "
   ]
  },
  {
   "cell_type": "code",
   "execution_count": 4,
   "metadata": {},
   "outputs": [
    {
     "ename": "AssertionError",
     "evalue": "Value must be less than 100",
     "output_type": "error",
     "traceback": [
      "\u001b[0;31m---------------------------------------------------------------------------\u001b[0m",
      "\u001b[0;31mAssertionError\u001b[0m                            Traceback (most recent call last)",
      "\u001b[0;32m<ipython-input-4-93b32aa4e2db>\u001b[0m in \u001b[0;36m<module>\u001b[0;34m()\u001b[0m\n\u001b[1;32m      9\u001b[0m \u001b[0msc\u001b[0m \u001b[0;34m=\u001b[0m \u001b[0mSimpleClass\u001b[0m\u001b[0;34m(\u001b[0m\u001b[0;34m)\u001b[0m\u001b[0;34m\u001b[0m\u001b[0;34m\u001b[0m\u001b[0m\n\u001b[1;32m     10\u001b[0m \u001b[0msc\u001b[0m\u001b[0;34m.\u001b[0m\u001b[0msetValue\u001b[0m\u001b[0;34m(\u001b[0m\u001b[0;36m5\u001b[0m\u001b[0;34m)\u001b[0m\u001b[0;34m\u001b[0m\u001b[0;34m\u001b[0m\u001b[0m\n\u001b[0;32m---> 11\u001b[0;31m \u001b[0msc\u001b[0m\u001b[0;34m.\u001b[0m\u001b[0msetValue\u001b[0m\u001b[0;34m(\u001b[0m\u001b[0;36m100\u001b[0m\u001b[0;34m)\u001b[0m\u001b[0;34m\u001b[0m\u001b[0;34m\u001b[0m\u001b[0m\n\u001b[0m",
      "\u001b[0;32m<ipython-input-4-93b32aa4e2db>\u001b[0m in \u001b[0;36msetValue\u001b[0;34m(self, new_value)\u001b[0m\n\u001b[1;32m      4\u001b[0m \u001b[0;34m\u001b[0m\u001b[0m\n\u001b[1;32m      5\u001b[0m     \u001b[0;32mdef\u001b[0m \u001b[0msetValue\u001b[0m\u001b[0;34m(\u001b[0m\u001b[0mself\u001b[0m\u001b[0;34m,\u001b[0m \u001b[0mnew_value\u001b[0m\u001b[0;34m)\u001b[0m\u001b[0;34m:\u001b[0m\u001b[0;34m\u001b[0m\u001b[0;34m\u001b[0m\u001b[0m\n\u001b[0;32m----> 6\u001b[0;31m         \u001b[0;32massert\u001b[0m \u001b[0mnew_value\u001b[0m \u001b[0;34m<\u001b[0m \u001b[0;36m100\u001b[0m\u001b[0;34m,\u001b[0m \u001b[0;34m\"Value must be less than 100\"\u001b[0m\u001b[0;34m\u001b[0m\u001b[0;34m\u001b[0m\u001b[0m\n\u001b[0m\u001b[1;32m      7\u001b[0m         \u001b[0mself\u001b[0m\u001b[0;34m.\u001b[0m\u001b[0mvalue\u001b[0m \u001b[0;34m=\u001b[0m \u001b[0mnew_value\u001b[0m\u001b[0;34m\u001b[0m\u001b[0;34m\u001b[0m\u001b[0m\n\u001b[1;32m      8\u001b[0m \u001b[0;34m\u001b[0m\u001b[0m\n",
      "\u001b[0;31mAssertionError\u001b[0m: Value must be less than 100"
     ]
    }
   ],
   "source": [
    "class SimpleClass(object):\n",
    "    def __init__(self):\n",
    "        self.value = 0\n",
    "    \n",
    "    def setValue(self, new_value):\n",
    "        assert new_value < 100, \"Value must be less than 100\"\n",
    "        self.value = new_value\n",
    "        \n",
    "sc = SimpleClass()\n",
    "sc.setValue(5)\n",
    "sc.setValue(100)"
   ]
  },
  {
   "cell_type": "markdown",
   "metadata": {},
   "source": [
    "The problem is that swapping to function calls would break all of my existing code. In Python there is a way around this but first let's look at how C++ handles this problem."
   ]
  },
  {
   "cell_type": "markdown",
   "metadata": {},
   "source": [
    "## C++ Style\n",
    "\n",
    "C++ you would never write your class like the above to begin with. Instead you would design your class with encapsulation."
   ]
  },
  {
   "cell_type": "code",
   "execution_count": 5,
   "metadata": {},
   "outputs": [
    {
     "name": "stdout",
     "output_type": "stream",
     "text": [
      "0\n",
      "5\n"
     ]
    },
    {
     "ename": "AssertionError",
     "evalue": "value must be less than 100",
     "output_type": "error",
     "traceback": [
      "\u001b[0;31m---------------------------------------------------------------------------\u001b[0m",
      "\u001b[0;31mAssertionError\u001b[0m                            Traceback (most recent call last)",
      "\u001b[0;32m<ipython-input-5-fc19a6c3b56d>\u001b[0m in \u001b[0;36m<module>\u001b[0;34m()\u001b[0m\n\u001b[1;32m     16\u001b[0m \u001b[0mcsc\u001b[0m\u001b[0;34m.\u001b[0m\u001b[0msetValue\u001b[0m\u001b[0;34m(\u001b[0m\u001b[0;36m5\u001b[0m\u001b[0;34m)\u001b[0m\u001b[0;34m\u001b[0m\u001b[0;34m\u001b[0m\u001b[0m\n\u001b[1;32m     17\u001b[0m \u001b[0mprint\u001b[0m\u001b[0;34m(\u001b[0m\u001b[0mcsc\u001b[0m\u001b[0;34m.\u001b[0m\u001b[0mgetValue\u001b[0m\u001b[0;34m(\u001b[0m\u001b[0;34m)\u001b[0m\u001b[0;34m)\u001b[0m\u001b[0;34m\u001b[0m\u001b[0;34m\u001b[0m\u001b[0m\n\u001b[0;32m---> 18\u001b[0;31m \u001b[0mcsc\u001b[0m\u001b[0;34m.\u001b[0m\u001b[0msetValue\u001b[0m\u001b[0;34m(\u001b[0m\u001b[0;36m100\u001b[0m\u001b[0;34m)\u001b[0m\u001b[0;34m\u001b[0m\u001b[0;34m\u001b[0m\u001b[0m\n\u001b[0m",
      "\u001b[0;32m<ipython-input-5-fc19a6c3b56d>\u001b[0m in \u001b[0;36msetValue\u001b[0;34m(self, val)\u001b[0m\n\u001b[1;32m      9\u001b[0m \u001b[0;34m\u001b[0m\u001b[0m\n\u001b[1;32m     10\u001b[0m     \u001b[0;32mdef\u001b[0m \u001b[0msetValue\u001b[0m\u001b[0;34m(\u001b[0m\u001b[0mself\u001b[0m\u001b[0;34m,\u001b[0m \u001b[0mval\u001b[0m\u001b[0;34m)\u001b[0m\u001b[0;34m:\u001b[0m\u001b[0;34m\u001b[0m\u001b[0;34m\u001b[0m\u001b[0m\n\u001b[0;32m---> 11\u001b[0;31m         \u001b[0;32massert\u001b[0m \u001b[0mval\u001b[0m \u001b[0;34m<\u001b[0m \u001b[0;36m100\u001b[0m\u001b[0;34m,\u001b[0m \u001b[0;34m\"value must be less than 100\"\u001b[0m\u001b[0;34m\u001b[0m\u001b[0;34m\u001b[0m\u001b[0m\n\u001b[0m\u001b[1;32m     12\u001b[0m         \u001b[0mself\u001b[0m\u001b[0;34m.\u001b[0m\u001b[0m_value\u001b[0m \u001b[0;34m=\u001b[0m \u001b[0mval\u001b[0m\u001b[0;34m\u001b[0m\u001b[0;34m\u001b[0m\u001b[0m\n\u001b[1;32m     13\u001b[0m \u001b[0;34m\u001b[0m\u001b[0m\n",
      "\u001b[0;31mAssertionError\u001b[0m: value must be less than 100"
     ]
    }
   ],
   "source": [
    "class CppSimpleClass(object):\n",
    "    \"\"\"A simple class written in an 'encapsulated' C++ style.\n",
    "    \"\"\"\n",
    "    def __init__(self):\n",
    "        self._value = 0\n",
    "        \n",
    "    def getValue(self):\n",
    "        return self._value\n",
    "    \n",
    "    def setValue(self, val):\n",
    "        assert val < 100, \"value must be less than 100\"\n",
    "        self._value = val\n",
    "\n",
    "csc = CppSimpleClass()\n",
    "print(csc.getValue())\n",
    "csc.setValue(5)\n",
    "print(csc.getValue())\n",
    "csc.setValue(100)"
   ]
  },
  {
   "cell_type": "markdown",
   "metadata": {},
   "source": [
    "The use of these get and set routines to access underlying private attributes is the hallmark of encapsulation. It's a universal design pattern in C++ for the simple reason that it makes your classes robust to later changes. By using a function from the start you have more wiggle room to implement required pieces of functionality.\n",
    "\n",
    "## Python Style\n",
    "\n",
    "In Python you don't (always) have to use encapsulation because you have property's. Going back to our starting example we can implement the desired range checking without having to alter how the class is actually used."
   ]
  },
  {
   "cell_type": "code",
   "execution_count": 6,
   "metadata": {},
   "outputs": [
    {
     "name": "stdout",
     "output_type": "stream",
     "text": [
      "0\n",
      "5\n"
     ]
    },
    {
     "ename": "AssertionError",
     "evalue": "value must be less than 100",
     "output_type": "error",
     "traceback": [
      "\u001b[0;31m---------------------------------------------------------------------------\u001b[0m",
      "\u001b[0;31mAssertionError\u001b[0m                            Traceback (most recent call last)",
      "\u001b[0;32m<ipython-input-6-e4830def65de>\u001b[0m in \u001b[0;36m<module>\u001b[0;34m()\u001b[0m\n\u001b[1;32m     17\u001b[0m \u001b[0msc\u001b[0m\u001b[0;34m.\u001b[0m\u001b[0mvalue\u001b[0m \u001b[0;34m=\u001b[0m \u001b[0;36m5\u001b[0m\u001b[0;34m\u001b[0m\u001b[0;34m\u001b[0m\u001b[0m\n\u001b[1;32m     18\u001b[0m \u001b[0mprint\u001b[0m\u001b[0;34m(\u001b[0m\u001b[0msc\u001b[0m\u001b[0;34m.\u001b[0m\u001b[0mvalue\u001b[0m\u001b[0;34m)\u001b[0m\u001b[0;34m\u001b[0m\u001b[0;34m\u001b[0m\u001b[0m\n\u001b[0;32m---> 19\u001b[0;31m \u001b[0msc\u001b[0m\u001b[0;34m.\u001b[0m\u001b[0mvalue\u001b[0m \u001b[0;34m=\u001b[0m \u001b[0;36m100\u001b[0m\u001b[0;34m\u001b[0m\u001b[0;34m\u001b[0m\u001b[0m\n\u001b[0m",
      "\u001b[0;32m<ipython-input-6-e4830def65de>\u001b[0m in \u001b[0;36mvalue\u001b[0;34m(self, val)\u001b[0m\n\u001b[1;32m      9\u001b[0m     \u001b[0;34m@\u001b[0m\u001b[0mvalue\u001b[0m\u001b[0;34m.\u001b[0m\u001b[0msetter\u001b[0m\u001b[0;34m\u001b[0m\u001b[0;34m\u001b[0m\u001b[0m\n\u001b[1;32m     10\u001b[0m     \u001b[0;32mdef\u001b[0m \u001b[0mvalue\u001b[0m\u001b[0;34m(\u001b[0m\u001b[0mself\u001b[0m\u001b[0;34m,\u001b[0m \u001b[0mval\u001b[0m\u001b[0;34m)\u001b[0m\u001b[0;34m:\u001b[0m\u001b[0;34m\u001b[0m\u001b[0;34m\u001b[0m\u001b[0m\n\u001b[0;32m---> 11\u001b[0;31m         \u001b[0;32massert\u001b[0m \u001b[0mval\u001b[0m \u001b[0;34m<\u001b[0m \u001b[0;36m100\u001b[0m\u001b[0;34m,\u001b[0m \u001b[0;34m\"value must be less than 100\"\u001b[0m\u001b[0;34m\u001b[0m\u001b[0;34m\u001b[0m\u001b[0m\n\u001b[0m\u001b[1;32m     12\u001b[0m         \u001b[0mself\u001b[0m\u001b[0;34m.\u001b[0m\u001b[0m_value\u001b[0m \u001b[0;34m=\u001b[0m \u001b[0mval\u001b[0m\u001b[0;34m\u001b[0m\u001b[0;34m\u001b[0m\u001b[0m\n\u001b[1;32m     13\u001b[0m \u001b[0;34m\u001b[0m\u001b[0m\n",
      "\u001b[0;31mAssertionError\u001b[0m: value must be less than 100"
     ]
    }
   ],
   "source": [
    "class SimpleClass(object):\n",
    "    def __init__(self):\n",
    "        self._value = 0\n",
    "        \n",
    "    @property\n",
    "    def value(self):\n",
    "        return self._value\n",
    "    \n",
    "    @value.setter\n",
    "    def value(self, val):\n",
    "        assert val < 100, \"value must be less than 100\"\n",
    "        self._value = val\n",
    "\n",
    "# you get range checking but the class still looks the same externally\n",
    "sc = SimpleClass()\n",
    "print(sc.value)\n",
    "sc.value = 5\n",
    "print(sc.value)\n",
    "sc.value = 100"
   ]
  },
  {
   "cell_type": "markdown",
   "metadata": {},
   "source": [
    "# The property object in Python\n",
    "\n",
    "You might have encountered propertys before and thought of them as a handy feature. But this feature of allowing function calls to be presented as simple attributes fundamentally changes the design constraints of the language. Instead of get and set routines being necessary they should be avoided wherever possible.\n",
    "\n",
    "Before moving on I'd like draw out more clearly what is going on in the previous example. It's important to note that @property is not some piece of magical syntax that makes functions look like data. There are two things going on; first is the use of @. This denotes a decorator and for simplicity let's take it out of the equation entirely:"
   ]
  },
  {
   "cell_type": "code",
   "execution_count": 7,
   "metadata": {},
   "outputs": [
    {
     "name": "stdout",
     "output_type": "stream",
     "text": [
      "0\n"
     ]
    }
   ],
   "source": [
    "class SimpleClass(object):\n",
    "    def __init__(self):\n",
    "        self._value = 0\n",
    "        \n",
    "    #@property\n",
    "    def value(self):\n",
    "        return self._value\n",
    "    value = property(value)\n",
    "    \n",
    "#setter routine omitted for brevity\n",
    "sc = SimpleClass()\n",
    "print(sc.value)"
   ]
  },
  {
   "cell_type": "markdown",
   "metadata": {},
   "source": [
    "Hopefully this makes something important a bit clearer. A property is just a Python object (like everything else). If we want to understand how it works then the best thing to do is to just look at its code. Below is a pure Python implemention of property."
   ]
  },
  {
   "cell_type": "code",
   "execution_count": 8,
   "metadata": {},
   "outputs": [],
   "source": [
    "class Property(object):\n",
    "    \"Emulate PyProperty_Type() in Objects/descrobject.c\"\n",
    "\n",
    "    def __init__(self, fget=None, fset=None, fdel=None, doc=None):\n",
    "        self.fget = fget\n",
    "        self.fset = fset\n",
    "        self.fdel = fdel\n",
    "        if doc is None and fget is not None:\n",
    "            doc = fget.__doc__\n",
    "        self.__doc__ = doc\n",
    "\n",
    "    def __get__(self, obj, objtype=None):\n",
    "        if obj is None:\n",
    "            return self\n",
    "        if self.fget is None:\n",
    "            raise AttributeError(\"unreadable attribute\")\n",
    "        return self.fget(obj)\n",
    "\n",
    "    def __set__(self, obj, value):\n",
    "        if self.fset is None:\n",
    "            raise AttributeError(\"can't set attribute\")\n",
    "        self.fset(obj, value)\n",
    "\n",
    "    def __delete__(self, obj):\n",
    "        if self.fdel is None:\n",
    "            raise AttributeError(\"can't delete attribute\")\n",
    "        self.fdel(obj)\n",
    "\n",
    "    def getter(self, fget):\n",
    "        return type(self)(fget, self.fset, self.fdel, self.__doc__)\n",
    "\n",
    "    def setter(self, fset):\n",
    "        return type(self)(self.fget, fset, self.fdel, self.__doc__)\n",
    "\n",
    "    def deleter(self, fdel):\n",
    "        return type(self)(self.fget, self.fset, fdel, self.__doc__)"
   ]
  },
  {
   "cell_type": "markdown",
   "metadata": {},
   "source": [
    "The crux of how a property works is in the methods, \\_\\_get\\_\\_, \\_\\_set\\_\\_ and \\_\\_delete\\_\\_. Classes that customise one or more of these methods are called descriptors and they work by exploiting the **attribute lookup** behaviour of Python classes. This is just a fancy way of describing what happens when using the \".\" syntax. How attribute lookup works is actually quite complicated but we'll look at a small part of it (see [4] for the full story). The attributes of a Python object are stored in its \\_\\_dict\\_\\_."
   ]
  },
  {
   "cell_type": "code",
   "execution_count": 9,
   "metadata": {},
   "outputs": [
    {
     "name": "stdout",
     "output_type": "stream",
     "text": [
      "Instance attributes: {'_value': 0}\n"
     ]
    }
   ],
   "source": [
    "sc = SimpleClass()\n",
    "print('Instance attributes:', sc.__dict__)"
   ]
  },
  {
   "cell_type": "markdown",
   "metadata": {},
   "source": [
    "That's quite sparse! The \\_\\_dict\\_\\_ contains only those values unique to an individual instance, usually those things set in \\_\\_init\\_\\_. Everything else is stored in the \\_\\_dict\\_\\_ of an instance's class."
   ]
  },
  {
   "cell_type": "code",
   "execution_count": 10,
   "metadata": {},
   "outputs": [
    {
     "name": "stdout",
     "output_type": "stream",
     "text": [
      "Class attributes: {'__module__': '__main__', '__init__': <function SimpleClass.__init__ at 0x7fbb2b6458c8>, 'value': <property object at 0x7fbb2b64c548>, '__dict__': <attribute '__dict__' of 'SimpleClass' objects>, '__weakref__': <attribute '__weakref__' of 'SimpleClass' objects>, '__doc__': None}\n"
     ]
    }
   ],
   "source": [
    "print('Class attributes:', SimpleClass.__dict__)"
   ]
  },
  {
   "cell_type": "markdown",
   "metadata": {},
   "source": [
    "In a simpler world you might expect that attribute lookup would be straightforword, first look for an attribute in the instance \\_\\_dict\\_\\_ if it's not there then try the class \\_\\_dict\\_\\_.\n",
    "\n",
    "Unfortunately descriptors make things more complicated. The class \\_\\_dict\\_\\_ is actually checked before the instance \\_\\_dict\\_\\_, if the attribute is found in the class \\_\\_dict\\_\\_ and if it has a \\_\\_get\\_\\_ and \\_\\_set\\_\\_ method then the result of the lookup will be:"
   ]
  },
  {
   "cell_type": "code",
   "execution_count": 11,
   "metadata": {},
   "outputs": [
    {
     "data": {
      "text/plain": [
       "0"
      ]
     },
     "execution_count": 11,
     "metadata": {},
     "output_type": "execute_result"
    }
   ],
   "source": [
    "# sc.value returns\n",
    "SimpleClass.__dict__['value'].__get__(sc, SimpleClass)"
   ]
  },
  {
   "cell_type": "markdown",
   "metadata": {},
   "source": [
    "This is just the default lookup behavior. This too can be customised through the \\_\\_getattribute\\_\\_ method of a class.\n",
    "\n",
    "Returning to the CppSimpleClass example we now have the tools we need to effectively write a Pythonic equivalent without too much work."
   ]
  },
  {
   "cell_type": "code",
   "execution_count": 12,
   "metadata": {},
   "outputs": [
    {
     "name": "stdout",
     "output_type": "stream",
     "text": [
      "0\n",
      "5\n"
     ]
    },
    {
     "ename": "AssertionError",
     "evalue": "value must be less than 100",
     "output_type": "error",
     "traceback": [
      "\u001b[0;31m---------------------------------------------------------------------------\u001b[0m",
      "\u001b[0;31mAssertionError\u001b[0m                            Traceback (most recent call last)",
      "\u001b[0;32m<ipython-input-12-0db092f8a123>\u001b[0m in \u001b[0;36m<module>\u001b[0;34m()\u001b[0m\n\u001b[1;32m     10\u001b[0m \u001b[0msw\u001b[0m\u001b[0;34m.\u001b[0m\u001b[0mvalue\u001b[0m \u001b[0;34m=\u001b[0m \u001b[0;36m5\u001b[0m\u001b[0;34m\u001b[0m\u001b[0;34m\u001b[0m\u001b[0m\n\u001b[1;32m     11\u001b[0m \u001b[0mprint\u001b[0m\u001b[0;34m(\u001b[0m\u001b[0msw\u001b[0m\u001b[0;34m.\u001b[0m\u001b[0mvalue\u001b[0m\u001b[0;34m)\u001b[0m\u001b[0;34m\u001b[0m\u001b[0;34m\u001b[0m\u001b[0m\n\u001b[0;32m---> 12\u001b[0;31m \u001b[0msw\u001b[0m\u001b[0;34m.\u001b[0m\u001b[0mvalue\u001b[0m \u001b[0;34m=\u001b[0m \u001b[0;36m100\u001b[0m\u001b[0;34m\u001b[0m\u001b[0;34m\u001b[0m\u001b[0m\n\u001b[0m",
      "\u001b[0;32m<ipython-input-5-fc19a6c3b56d>\u001b[0m in \u001b[0;36msetValue\u001b[0;34m(self, val)\u001b[0m\n\u001b[1;32m      9\u001b[0m \u001b[0;34m\u001b[0m\u001b[0m\n\u001b[1;32m     10\u001b[0m     \u001b[0;32mdef\u001b[0m \u001b[0msetValue\u001b[0m\u001b[0;34m(\u001b[0m\u001b[0mself\u001b[0m\u001b[0;34m,\u001b[0m \u001b[0mval\u001b[0m\u001b[0;34m)\u001b[0m\u001b[0;34m:\u001b[0m\u001b[0;34m\u001b[0m\u001b[0;34m\u001b[0m\u001b[0m\n\u001b[0;32m---> 11\u001b[0;31m         \u001b[0;32massert\u001b[0m \u001b[0mval\u001b[0m \u001b[0;34m<\u001b[0m \u001b[0;36m100\u001b[0m\u001b[0;34m,\u001b[0m \u001b[0;34m\"value must be less than 100\"\u001b[0m\u001b[0;34m\u001b[0m\u001b[0;34m\u001b[0m\u001b[0m\n\u001b[0m\u001b[1;32m     12\u001b[0m         \u001b[0mself\u001b[0m\u001b[0;34m.\u001b[0m\u001b[0m_value\u001b[0m \u001b[0;34m=\u001b[0m \u001b[0mval\u001b[0m\u001b[0;34m\u001b[0m\u001b[0;34m\u001b[0m\u001b[0m\n\u001b[1;32m     13\u001b[0m \u001b[0;34m\u001b[0m\u001b[0m\n",
      "\u001b[0;31mAssertionError\u001b[0m: value must be less than 100"
     ]
    }
   ],
   "source": [
    "class SimpleWrapper(object):\n",
    "    # this would need to be a subclass of CppSimpleClass in Python 2\n",
    "    def __init__(self):\n",
    "        self._value = 0\n",
    "    \n",
    "    value = property(CppSimpleClass.getValue, CppSimpleClass.setValue)\n",
    "\n",
    "sw = SimpleWrapper()\n",
    "print(sw.value)\n",
    "sw.value = 5\n",
    "print(sw.value)\n",
    "sw.value = 100"
   ]
  },
  {
   "cell_type": "markdown",
   "metadata": {},
   "source": [
    "Progress! Still a little simplistic however. There is a second slightly different context in which get and set routines are used in C++ classes. Consider the below:"
   ]
  },
  {
   "cell_type": "code",
   "execution_count": 13,
   "metadata": {},
   "outputs": [
    {
     "name": "stdout",
     "output_type": "stream",
     "text": [
      "0\n",
      "1\n",
      "2\n"
     ]
    }
   ],
   "source": [
    "class CppClass(CppSimpleClass):\n",
    "    def __init__(self):\n",
    "        self._value = 0\n",
    "        self._array = [0, 1, 2]\n",
    "        \n",
    "    def getNumArrayElements(self):\n",
    "        return len(self._array)\n",
    "        \n",
    "    def getArrayElement(self, index):\n",
    "        return self._array[index]\n",
    "    \n",
    "    def setArrayElement(self, index, value):\n",
    "        assert value < 100, \"Element must be less than 100\"\n",
    "        self._array[index] = value\n",
    "        \n",
    "cc = CppClass()\n",
    "for i in range(cc.getNumArrayElements()):\n",
    "    print(cc.getArrayElement(i))"
   ]
  },
  {
   "cell_type": "markdown",
   "metadata": {},
   "source": [
    "It's a similar case but a bit different. Can we get away with using a property here?"
   ]
  },
  {
   "cell_type": "code",
   "execution_count": 14,
   "metadata": {},
   "outputs": [
    {
     "ename": "TypeError",
     "evalue": "getArrayElement() missing 1 required positional argument: 'index'",
     "output_type": "error",
     "traceback": [
      "\u001b[0;31m---------------------------------------------------------------------------\u001b[0m",
      "\u001b[0;31mTypeError\u001b[0m                                 Traceback (most recent call last)",
      "\u001b[0;32m<ipython-input-14-a0fa4ee0e08d>\u001b[0m in \u001b[0;36m<module>\u001b[0;34m()\u001b[0m\n\u001b[1;32m      7\u001b[0m \u001b[0;34m\u001b[0m\u001b[0m\n\u001b[1;32m      8\u001b[0m \u001b[0mw\u001b[0m \u001b[0;34m=\u001b[0m \u001b[0mWrapper\u001b[0m\u001b[0;34m(\u001b[0m\u001b[0;34m)\u001b[0m\u001b[0;34m\u001b[0m\u001b[0;34m\u001b[0m\u001b[0m\n\u001b[0;32m----> 9\u001b[0;31m \u001b[0mprint\u001b[0m\u001b[0;34m(\u001b[0m\u001b[0mw\u001b[0m\u001b[0;34m.\u001b[0m\u001b[0marray\u001b[0m\u001b[0;34m)\u001b[0m\u001b[0;34m\u001b[0m\u001b[0;34m\u001b[0m\u001b[0m\n\u001b[0m",
      "\u001b[0;31mTypeError\u001b[0m: getArrayElement() missing 1 required positional argument: 'index'"
     ]
    }
   ],
   "source": [
    "class Wrapper(SimpleWrapper):\n",
    "    def __init__(self):\n",
    "        self._value = 0\n",
    "        self._array = []\n",
    "        \n",
    "    array = property(CppClass.getArrayElement, CppClass.setArrayElement)\n",
    "    \n",
    "w = Wrapper()\n",
    "print(w.array)"
   ]
  },
  {
   "cell_type": "markdown",
   "metadata": {},
   "source": [
    "# Creating a New Descriptor\n",
    "\n",
    "So we need a custom descriptor that can handle this form of getter and setter. Something like this can do the job:"
   ]
  },
  {
   "cell_type": "code",
   "execution_count": 15,
   "metadata": {},
   "outputs": [],
   "source": [
    "class ArrayProperty(property):\n",
    "    def __init__(self, flen, fget, fset, doc=None):\n",
    "        super().__init__(fget, fset, doc=doc)\n",
    "        self.flen = flen\n",
    "    \n",
    "    def __get__(self, obj, objtype=None):\n",
    "        self.parent = obj\n",
    "        return self\n",
    "    \n",
    "    def __len__(self):\n",
    "        return self.flen(self.parent)\n",
    "    \n",
    "    def __getitem__(self, index):\n",
    "        return self.fget(self.parent, index)\n",
    "        \n",
    "    def __setitem__(self, index, value):\n",
    "        self.fset(self.parent, index, value)\n",
    "    \n",
    "    def __set__(self, obj, value):\n",
    "        raise AttributeError('Cannot set attribute')"
   ]
  },
  {
   "cell_type": "markdown",
   "metadata": {},
   "source": [
    "We can borrow from property for the \\_\\_init\\_\\_ method at least. Otherwise things are mixed around w.r.t. property, fget and fset are now associated with the \\_\\_getitem\\_\\_ and \\_\\_setitem\\_\\_ methods. The \\_\\_set\\_\\_ method is used to prevent this attribute from being overwritten. At this point it is only a wrapper for a C++ array and we don't want to allow it to be disconected from the underlying array. The \\_\\_get\\_\\_ method is used to set the parent attribute, this captures the particular instance to provide to the unbound fget and fset methods."
   ]
  },
  {
   "cell_type": "code",
   "execution_count": 16,
   "metadata": {},
   "outputs": [
    {
     "name": "stdout",
     "output_type": "stream",
     "text": [
      "Accessed array attribute - <__main__.ArrayProperty object at 0x7fbb2b6a6648>\n",
      "Number of array elements - 3\n",
      "Array Element -            0\n",
      "Updated array element -    20\n",
      "Underlying list -          [20, 1, 2]\n"
     ]
    },
    {
     "ename": "AssertionError",
     "evalue": "Element must be less than 100",
     "output_type": "error",
     "traceback": [
      "\u001b[0;31m---------------------------------------------------------------------------\u001b[0m",
      "\u001b[0;31mAssertionError\u001b[0m                            Traceback (most recent call last)",
      "\u001b[0;32m<ipython-input-16-ff6a004bce5f>\u001b[0m in \u001b[0;36m<module>\u001b[0;34m()\u001b[0m\n\u001b[1;32m     15\u001b[0m \u001b[0mprint\u001b[0m\u001b[0;34m(\u001b[0m\u001b[0;34m\"Updated array element -   \"\u001b[0m\u001b[0;34m,\u001b[0m \u001b[0mw\u001b[0m\u001b[0;34m.\u001b[0m\u001b[0marray\u001b[0m\u001b[0;34m[\u001b[0m\u001b[0;36m0\u001b[0m\u001b[0;34m]\u001b[0m\u001b[0;34m)\u001b[0m\u001b[0;34m\u001b[0m\u001b[0;34m\u001b[0m\u001b[0m\n\u001b[1;32m     16\u001b[0m \u001b[0mprint\u001b[0m\u001b[0;34m(\u001b[0m\u001b[0;34m\"Underlying list -         \"\u001b[0m\u001b[0;34m,\u001b[0m \u001b[0mw\u001b[0m\u001b[0;34m.\u001b[0m\u001b[0m_array\u001b[0m\u001b[0;34m)\u001b[0m\u001b[0;34m\u001b[0m\u001b[0;34m\u001b[0m\u001b[0m\n\u001b[0;32m---> 17\u001b[0;31m \u001b[0mw\u001b[0m\u001b[0;34m.\u001b[0m\u001b[0marray\u001b[0m\u001b[0;34m[\u001b[0m\u001b[0;36m0\u001b[0m\u001b[0;34m]\u001b[0m \u001b[0;34m=\u001b[0m \u001b[0;36m100\u001b[0m\u001b[0;34m\u001b[0m\u001b[0;34m\u001b[0m\u001b[0m\n\u001b[0m",
      "\u001b[0;32m<ipython-input-15-4e2070846994>\u001b[0m in \u001b[0;36m__setitem__\u001b[0;34m(self, index, value)\u001b[0m\n\u001b[1;32m     15\u001b[0m \u001b[0;34m\u001b[0m\u001b[0m\n\u001b[1;32m     16\u001b[0m     \u001b[0;32mdef\u001b[0m \u001b[0m__setitem__\u001b[0m\u001b[0;34m(\u001b[0m\u001b[0mself\u001b[0m\u001b[0;34m,\u001b[0m \u001b[0mindex\u001b[0m\u001b[0;34m,\u001b[0m \u001b[0mvalue\u001b[0m\u001b[0;34m)\u001b[0m\u001b[0;34m:\u001b[0m\u001b[0;34m\u001b[0m\u001b[0;34m\u001b[0m\u001b[0m\n\u001b[0;32m---> 17\u001b[0;31m         \u001b[0mself\u001b[0m\u001b[0;34m.\u001b[0m\u001b[0mfset\u001b[0m\u001b[0;34m(\u001b[0m\u001b[0mself\u001b[0m\u001b[0;34m.\u001b[0m\u001b[0mparent\u001b[0m\u001b[0;34m,\u001b[0m \u001b[0mindex\u001b[0m\u001b[0;34m,\u001b[0m \u001b[0mvalue\u001b[0m\u001b[0;34m)\u001b[0m\u001b[0;34m\u001b[0m\u001b[0;34m\u001b[0m\u001b[0m\n\u001b[0m\u001b[1;32m     18\u001b[0m \u001b[0;34m\u001b[0m\u001b[0m\n\u001b[1;32m     19\u001b[0m     \u001b[0;32mdef\u001b[0m \u001b[0m__set__\u001b[0m\u001b[0;34m(\u001b[0m\u001b[0mself\u001b[0m\u001b[0;34m,\u001b[0m \u001b[0mobj\u001b[0m\u001b[0;34m,\u001b[0m \u001b[0mvalue\u001b[0m\u001b[0;34m)\u001b[0m\u001b[0;34m:\u001b[0m\u001b[0;34m\u001b[0m\u001b[0;34m\u001b[0m\u001b[0m\n",
      "\u001b[0;32m<ipython-input-13-d3c0dc334500>\u001b[0m in \u001b[0;36msetArrayElement\u001b[0;34m(self, index, value)\u001b[0m\n\u001b[1;32m     11\u001b[0m \u001b[0;34m\u001b[0m\u001b[0m\n\u001b[1;32m     12\u001b[0m     \u001b[0;32mdef\u001b[0m \u001b[0msetArrayElement\u001b[0m\u001b[0;34m(\u001b[0m\u001b[0mself\u001b[0m\u001b[0;34m,\u001b[0m \u001b[0mindex\u001b[0m\u001b[0;34m,\u001b[0m \u001b[0mvalue\u001b[0m\u001b[0;34m)\u001b[0m\u001b[0;34m:\u001b[0m\u001b[0;34m\u001b[0m\u001b[0;34m\u001b[0m\u001b[0m\n\u001b[0;32m---> 13\u001b[0;31m         \u001b[0;32massert\u001b[0m \u001b[0mvalue\u001b[0m \u001b[0;34m<\u001b[0m \u001b[0;36m100\u001b[0m\u001b[0;34m,\u001b[0m \u001b[0;34m\"Element must be less than 100\"\u001b[0m\u001b[0;34m\u001b[0m\u001b[0;34m\u001b[0m\u001b[0m\n\u001b[0m\u001b[1;32m     14\u001b[0m         \u001b[0mself\u001b[0m\u001b[0;34m.\u001b[0m\u001b[0m_array\u001b[0m\u001b[0;34m[\u001b[0m\u001b[0mindex\u001b[0m\u001b[0;34m]\u001b[0m \u001b[0;34m=\u001b[0m \u001b[0mvalue\u001b[0m\u001b[0;34m\u001b[0m\u001b[0;34m\u001b[0m\u001b[0m\n\u001b[1;32m     15\u001b[0m \u001b[0;34m\u001b[0m\u001b[0m\n",
      "\u001b[0;31mAssertionError\u001b[0m: Element must be less than 100"
     ]
    }
   ],
   "source": [
    "class Wrapper(SimpleWrapper):\n",
    "    def __init__(self):\n",
    "        super().__init__()\n",
    "        self._array = [0, 1, 2] # init with some values so we have something to work with\n",
    "        \n",
    "    array = ArrayProperty(flen=CppClass.getNumArrayElements, \n",
    "                          fget=CppClass.getArrayElement,\n",
    "                          fset=CppClass.setArrayElement)\n",
    "    \n",
    "w = Wrapper()\n",
    "print(\"Accessed array attribute -\", w.array)\n",
    "print(\"Number of array elements -\", len(w.array))\n",
    "print(\"Array Element -           \", w.array[0])\n",
    "w.array[0] = 20\n",
    "print(\"Updated array element -   \", w.array[0])\n",
    "print(\"Underlying list -         \", w._array)\n",
    "w.array[0] = 100"
   ]
  },
  {
   "cell_type": "markdown",
   "metadata": {},
   "source": [
    "Even with an implementation this basic we can create a compelling example. "
   ]
  },
  {
   "cell_type": "code",
   "execution_count": 17,
   "metadata": {},
   "outputs": [
    {
     "name": "stdout",
     "output_type": "stream",
     "text": [
      "0\n",
      "1\n",
      "2\n",
      "0\n",
      "1\n",
      "2\n"
     ]
    }
   ],
   "source": [
    "w = Wrapper()\n",
    "for element in w.array:\n",
    "    print(element)\n",
    "\n",
    "# instead of\n",
    "cc = CppClass()\n",
    "for i in range(cc.getNumArrayElements()):\n",
    "    print(cc.getArrayElement(i))"
   ]
  },
  {
   "cell_type": "markdown",
   "metadata": {},
   "source": [
    "# Metaclasses\n",
    "\n",
    "In principle I now had all the tools to create the desired Pythonic version of the target library. The bottleneck is I'd have to write one of the above for every single class in OpenMM which was just too boring to contemplate. So the next question that occured was how could I automate the above process as much as possible?\n",
    "\n",
    "The essence of the question was can I programmatically create classes?\n",
    "\n",
    "Turns out you can and the mechanism to do so is via metaclasses. There is a default metaclass, which is type. You can set the metaclass for a new class, like so:"
   ]
  },
  {
   "cell_type": "code",
   "execution_count": 18,
   "metadata": {},
   "outputs": [],
   "source": [
    "class Wrapper(SimpleWrapper, metaclass=type):\n",
    "    def __init__(self):\n",
    "        super().__init__()\n",
    "        self._array = [0, 1, 2] # init with some values so we have something to work with\n",
    "        \n",
    "    array = ArrayProperty(flen=CppClass.getNumArrayElements,\n",
    "                          fget=CppClass.getArrayElement,\n",
    "                          fset=CppClass.setArrayElement)"
   ]
  },
  {
   "cell_type": "markdown",
   "metadata": {},
   "source": [
    "In the above case we've trivially set the metaclass to the default. Similarly to the decorator example, the above is just a nicer syntax that is provided instead of it's equivalent which is below:"
   ]
  },
  {
   "cell_type": "code",
   "execution_count": 19,
   "metadata": {},
   "outputs": [
    {
     "name": "stdout",
     "output_type": "stream",
     "text": [
      "0\n",
      "0\n",
      "1\n",
      "2\n"
     ]
    }
   ],
   "source": [
    "Wrapper = type('Wrapper', # class name\n",
    "               (SimpleWrapper,), # tuple of base classes\n",
    "               {'__init__': CppClass.__init__, # dict of additional attributes, \n",
    "                'array': ArrayProperty(CppClass.getNumArrayElements, CppClass.getArrayElement, CppClass.setArrayElement)})\n",
    "\n",
    "w = Wrapper()\n",
    "print(w.value)\n",
    "for element in w.array:\n",
    "    print(element)"
   ]
  },
  {
   "cell_type": "markdown",
   "metadata": {},
   "source": [
    "Here type is being used as a metaclass. In fact, type is the default metaclass of all Python classes. \n",
    "\n",
    "To start with lets define metaclasses with a useful lie - **A metaclass is a callable that returns a class object**. To put it another way - metaclass is to class, as class is to instance:"
   ]
  },
  {
   "cell_type": "code",
   "execution_count": 20,
   "metadata": {},
   "outputs": [
    {
     "name": "stdout",
     "output_type": "stream",
     "text": [
      "True\n",
      "True\n"
     ]
    }
   ],
   "source": [
    "w = Wrapper()\n",
    "print(isinstance(w, Wrapper))\n",
    "print(isinstance(Wrapper, type))"
   ]
  },
  {
   "cell_type": "markdown",
   "metadata": {},
   "source": [
    "As you can call a Class to create an instance you can call a Metaclass to create a class. If a Metaclass is just a callable then we could use just a standard function:"
   ]
  },
  {
   "cell_type": "code",
   "execution_count": 21,
   "metadata": {},
   "outputs": [
    {
     "name": "stdout",
     "output_type": "stream",
     "text": [
      "0\n",
      "0\n",
      "1\n",
      "2\n"
     ]
    }
   ],
   "source": [
    "def Pythonize(name, bases, attrs):\n",
    "    base = bases[0]\n",
    "    attrs.update({'__init__': base.__init__,\n",
    "                 'value': property(base.getValue, base.setValue),\n",
    "                 'array': ArrayProperty(base.getNumArrayElements, base.getArrayElement, base.setArrayElement)})\n",
    "    return type(name, (), attrs)\n",
    "\n",
    "class Wrapper(CppClass, metaclass=Pythonize):\n",
    "    pass\n",
    "\n",
    "Wrapper = Pythonize('Wrapper', (CppClass,), {})\n",
    "\n",
    "w = Wrapper()\n",
    "print(w.value)\n",
    "for element in w.array:\n",
    "    print(element)"
   ]
  },
  {
   "cell_type": "markdown",
   "metadata": {},
   "source": [
    "This works... but has some shortcomings. In particular if you use a bog standard function as a metaclass it is not compatible with isinstance:"
   ]
  },
  {
   "cell_type": "code",
   "execution_count": 22,
   "metadata": {},
   "outputs": [
    {
     "ename": "TypeError",
     "evalue": "isinstance() arg 2 must be a type or tuple of types",
     "output_type": "error",
     "traceback": [
      "\u001b[0;31m---------------------------------------------------------------------------\u001b[0m",
      "\u001b[0;31mTypeError\u001b[0m                                 Traceback (most recent call last)",
      "\u001b[0;32m<ipython-input-22-2199a773e7d3>\u001b[0m in \u001b[0;36m<module>\u001b[0;34m()\u001b[0m\n\u001b[0;32m----> 1\u001b[0;31m \u001b[0misinstance\u001b[0m\u001b[0;34m(\u001b[0m\u001b[0mWrapper\u001b[0m\u001b[0;34m,\u001b[0m \u001b[0mPythonize\u001b[0m\u001b[0;34m)\u001b[0m\u001b[0;34m\u001b[0m\u001b[0;34m\u001b[0m\u001b[0m\n\u001b[0m",
      "\u001b[0;31mTypeError\u001b[0m: isinstance() arg 2 must be a type or tuple of types"
     ]
    }
   ],
   "source": [
    "isinstance(Wrapper, Pythonize)"
   ]
  },
  {
   "cell_type": "markdown",
   "metadata": {},
   "source": [
    "For this reason it is better to write a metaclass using the below form:"
   ]
  },
  {
   "cell_type": "code",
   "execution_count": 23,
   "metadata": {},
   "outputs": [
    {
     "name": "stdout",
     "output_type": "stream",
     "text": [
      "0\n",
      "0\n",
      "1\n",
      "2\n",
      "True\n"
     ]
    }
   ],
   "source": [
    "class Pythonize(type):\n",
    "    def __new__(metaclass, name, bases, attrs):\n",
    "        base = bases[0] # assuming only one base class here\n",
    "        return super().__new__(\n",
    "            metaclass,\n",
    "            name,\n",
    "            (),\n",
    "            {'__init__': base.__init__,\n",
    "             'value': property(base.getValue, base.setValue),\n",
    "             'array': ArrayProperty(base.getNumArrayElements, base.getArrayElement, base.setArrayElement)})\n",
    "\n",
    "class Wrapper(CppClass, metaclass=Pythonize):\n",
    "    pass\n",
    "\n",
    "w = Wrapper()\n",
    "print(w.value)\n",
    "for element in w.array:\n",
    "    print(element)\n",
    "print(isinstance(Wrapper, Pythonize))"
   ]
  },
  {
   "cell_type": "markdown",
   "metadata": {},
   "source": [
    "The Pythonize \"class\" here can be used as a metaclass because it inherits from type. This method relies on more explicitly hooking in to the creation behaviour of Python classes. The \\_\\_new\\_\\_ method is the class constructor in Python. You can think of it a bit like \\_\\_init\\_\\_ but it's invoked first.\n",
    "\n",
    "All that remains is to write some code for the metaclass that is able to look through the attributes of the base class and determine how to group them up as arguments for the appropriate descriptor. This logic is a bit convoluted so I've hidden it in a blackbox:"
   ]
  },
  {
   "cell_type": "code",
   "execution_count": 24,
   "metadata": {},
   "outputs": [
    {
     "name": "stdout",
     "output_type": "stream",
     "text": [
      "{'array': [<function CppClass.getNumArrayElements at 0x7fbb2b645c80>, <function CppClass.getArrayElement at 0x7fbb2b645bf8>, <function CppClass.setArrayElement at 0x7fbb2b645d90>]}\n",
      "0\n",
      "0\n",
      "1\n",
      "2\n",
      "True\n"
     ]
    }
   ],
   "source": [
    "import attribute_grouping\n",
    "\n",
    "class Pythonize(type):\n",
    "    def __new__(mcs, name, bases, attrs):\n",
    "        base = bases[0]\n",
    "    \n",
    "        # look through base class attributes and group getters and setters\n",
    "        # for arrays and individual values\n",
    "        array_attributes, non_array_attributes = attribute_grouping.blackbox(base)\n",
    "\n",
    "        print(array_attributes)\n",
    "        \n",
    "        attrs['__init__'] = base.__init__\n",
    "        \n",
    "        for attr, args in non_array_attributes.items():\n",
    "            attrs[attr] = property(*args)\n",
    "            \n",
    "        for attr, args in array_attributes.items():\n",
    "            attrs[attr] = ArrayProperty(*args)\n",
    "            \n",
    "        return super().__new__(mcs, name, (), attrs)\n",
    "\n",
    "Wrapper = Pythonize('Wrapper', (CppClass,), {})\n",
    "\n",
    "w = Wrapper()\n",
    "print(w.value)\n",
    "for element in w.array:\n",
    "    print(element)\n",
    "print(isinstance(Wrapper, Pythonize))"
   ]
  },
  {
   "cell_type": "markdown",
   "metadata": {},
   "source": [
    "Finally I had a simple programmatic way to convert however many classes are in OpenMM to their Pythonic equivalents. All that was needed was a bit of logic represented by the below pseudocode."
   ]
  },
  {
   "cell_type": "code",
   "execution_count": null,
   "metadata": {},
   "outputs": [],
   "source": [
    "# for class in simtk.openmm:\n",
    "#     new_class = Pythonize(class)"
   ]
  },
  {
   "cell_type": "markdown",
   "metadata": {},
   "source": [
    "# The End Result - KAPOW\n",
    "\n",
    "KAPOW is a Pythonic OpenMM Wrapper. The result of applying (similar to) the above to the OpenMM Python API."
   ]
  },
  {
   "cell_type": "code",
   "execution_count": 25,
   "metadata": {},
   "outputs": [
    {
     "name": "stdout",
     "output_type": "stream",
     "text": [
      "[Quantity(value=0.0, unit=elementary charge), Quantity(value=0.0, unit=nanometer), Quantity(value=0.0, unit=kilojoule/mole)]\n",
      "\n",
      "Particle(charge=Quantity(value=0.0, unit=elementary charge), sigma=Quantity(value=0.0, unit=nanometer), epsilon=Quantity(value=0.0, unit=kilojoule/mole))\n"
     ]
    }
   ],
   "source": [
    "from simtk import openmm\n",
    "import kapow\n",
    "\n",
    "# Using OpenMM Natively\n",
    "nbf = openmm.NonbondedForce()\n",
    "nbf.addParticle(0, 0, 0)\n",
    "for i in range(nbf.getNumParticles()):\n",
    "    print(nbf.getParticleParameters(i))\n",
    "print()\n",
    "\n",
    "# Using KAPOW\n",
    "knbf = kapow.NonbondedForce.Wrap(nbf)\n",
    "for particle in knbf.particles:\n",
    "    print(particle)"
   ]
  },
  {
   "cell_type": "code",
   "execution_count": 26,
   "metadata": {},
   "outputs": [
    {
     "name": "stdout",
     "output_type": "stream",
     "text": [
      "alpha 0.0\n",
      "E 0.0\n",
      "\n",
      "(('alpha', 0.0), ('E', 0.0))\n"
     ]
    }
   ],
   "source": [
    "# Using OpenMM Natively\n",
    "amd = openmm.AMDIntegrator(0, 0, 0)\n",
    "for i in range(amd.getNumGlobalVariables()):\n",
    "    print(amd.getGlobalVariableName(i), amd.getGlobalVariable(i))\n",
    "\n",
    "print()\n",
    "\n",
    "# Using KAPOW\n",
    "amd = kapow.AMDIntegrator(0, 0, 0)\n",
    "print(amd.globalVariables.items())"
   ]
  },
  {
   "cell_type": "markdown",
   "metadata": {},
   "source": [
    "So whats the problem? Turns out OpenMM is a moving target that interferes with the blackbox aspect above. Even different minor versions of OpenMM have a different set of exceptions that requires manual attention and tweaking."
   ]
  },
  {
   "cell_type": "markdown",
   "metadata": {},
   "source": [
    "# Conclusions\n",
    "\n",
    "* You can make Python do weird things by interfering with how the attributes of classes are accessed (descriptors) and how classes are created (metaclasses).\n",
    "\n",
    "* These may seem niche but fundamentally allow a tremendous amount of design flexibility in Python as a language.\n",
    "* Descriptors are widely invoked through the property object; metaclasses are used widely by projects such as Django.\n",
    "* Whilst the application to OpenMM is a bit impractical the actual inner workings of the Pythonization project may be more generally useful."
   ]
  },
  {
   "cell_type": "markdown",
   "metadata": {},
   "source": [
    "# Resources\n",
    "[1] https://openmm.org - The OpenMM simulation package  \n",
    "[2] https://github.com/cc-a/kapow - The Pythonic OpenMM Wrapper  \n",
    "[3] https://docs.python.org/3.6/howto/descriptor.html - The Python documentation on Descriptors  \n",
    "[4] https://blog.ionelmc.ro/2015/02/09/understanding-python-metaclasses/ - An outstanding and detailed guide to Descriptors and Metaclasses"
   ]
  }
 ],
 "metadata": {
  "kernelspec": {
   "display_name": "Python 3",
   "language": "python",
   "name": "python3"
  },
  "language_info": {
   "codemirror_mode": {
    "name": "ipython",
    "version": 3
   },
   "file_extension": ".py",
   "mimetype": "text/x-python",
   "name": "python",
   "nbconvert_exporter": "python",
   "pygments_lexer": "ipython3",
   "version": "3.6.8"
  }
 },
 "nbformat": 4,
 "nbformat_minor": 2
}
